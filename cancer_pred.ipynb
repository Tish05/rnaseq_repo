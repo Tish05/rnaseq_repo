{
 "cells": [
  {
   "cell_type": "markdown",
   "id": "4ff89180",
   "metadata": {},
   "source": [
    "Machine Learning for Cancer Prediction:\n",
    "The data used for this tutorial is an RNA-seq gene expression data for different cancer types. \n",
    "The rows represent cancer samples\n",
    "The columns represent gene count values\n",
    "The last column contains the cancer categories\n",
    "\n",
    "The original data can found here: https://archive.ics.uci.edu/ml/datasets/gene+expression+cancer+RNA-Seq#"
   ]
  },
  {
   "cell_type": "markdown",
   "id": "42b74a60",
   "metadata": {},
   "source": [
    "Importing Required libraries:      "
   ]
  },
  {
   "cell_type": "code",
   "execution_count": 1,
   "id": "c94792c8",
   "metadata": {},
   "outputs": [],
   "source": [
    "#data handling\n",
    "import pandas as pd\n",
    "import numpy as np\n",
    "\n",
    "#data visualization\n",
    "import matplotlib.pyplot as plt\n",
    "import seaborn as sns\n",
    "\n",
    "#preprocessing\n",
    "from sklearn.model_selection import train_test_split\n",
    "from sklearn.preprocessing import LabelEncoder\n",
    "from sklearn.preprocessing import label_binarize\n",
    "from sklearn.preprocessing import MinMaxScaler\n",
    "\n",
    "#feature selection\n",
    "from sklearn.feature_selection import mutual_info_classif\n",
    "\n",
    "#classification\n",
    "from sklearn.multiclass import OneVsRestClassifier\n",
    "from sklearn.ensemble import RandomForestClassifier\n",
    "\n",
    "# performance metrics\n",
    "from sklearn.metrics import balanced_accuracy_score,f1_score,precision_score, recall_score\n",
    "from sklearn.metrics import classification_report\n",
    "from sklearn.metrics import confusion_matrix\n",
    "from sklearn.metrics import plot_confusion_matrix\n",
    "from sklearn.metrics import roc_curve,auc\n",
    "from sklearn.metrics import roc_auc_score"
   ]
  },
  {
   "cell_type": "markdown",
   "id": "b5bed453",
   "metadata": {},
   "source": [
    "Reading the data:"
   ]
  },
  {
   "cell_type": "code",
   "execution_count": 2,
   "id": "57bdb403",
   "metadata": {},
   "outputs": [],
   "source": [
    "#read data directly from a github repository\n",
    "\n",
    "file_url='https://github.com/vappiah/Machine-Learning-Tutorials/raw/main/data/cancer_gene_expression.zip'\n",
    "\n",
    "dataframe=pd.read_csv(file_url)"
   ]
  },
  {
   "cell_type": "markdown",
   "id": "c9dcca7a",
   "metadata": {},
   "source": [
    "Data Exploration & Cleaning:"
   ]
  },
  {
   "cell_type": "code",
   "execution_count": 3,
   "id": "cecfb4bc",
   "metadata": {},
   "outputs": [
    {
     "name": "stdout",
     "output_type": "stream",
     "text": [
      "(801, 8001)\n"
     ]
    }
   ],
   "source": [
    "# let's check the number of samples and features\n",
    "# note: the last column contain the labels-- it is not considered as a feature\n",
    "\n",
    "print(dataframe.shape)"
   ]
  },
  {
   "cell_type": "code",
   "execution_count": 4,
   "id": "a8ca74e8",
   "metadata": {},
   "outputs": [
    {
     "name": "stdout",
     "output_type": "stream",
     "text": [
      "Index(['gene_1', 'gene_2', 'gene_3'], dtype='object')\n"
     ]
    }
   ],
   "source": [
    "#let's check some of the columns (first, second and third columns)\n",
    "\n",
    "print(dataframe.columns[0:3])"
   ]
  },
  {
   "cell_type": "code",
   "execution_count": 5,
   "id": "cc217ca3",
   "metadata": {},
   "outputs": [
    {
     "data": {
      "text/plain": [
       "'Cancer_Type'"
      ]
     },
     "execution_count": 5,
     "metadata": {},
     "output_type": "execute_result"
    }
   ],
   "source": [
    "#lets check the name of the last column of this dataframe\n",
    "\n",
    "dataframe.columns[-1]"
   ]
  },
  {
   "cell_type": "code",
   "execution_count": 6,
   "id": "53e34286",
   "metadata": {},
   "outputs": [
    {
     "name": "stdout",
     "output_type": "stream",
     "text": [
      "columns with missing values:0\n"
     ]
    }
   ],
   "source": [
    "#checking for missing values\n",
    " \n",
    "datanul=dataframe.isnull().sum()\n",
    "g=[i for i in datanul if i>0]\n",
    "\n",
    "print('columns with missing values:%d'%len(g))"
   ]
  },
  {
   "cell_type": "code",
   "execution_count": 7,
   "id": "2b01eadf",
   "metadata": {},
   "outputs": [
    {
     "name": "stdout",
     "output_type": "stream",
     "text": [
      "BRCA    300\n",
      "KIRC    146\n",
      "LUAD    141\n",
      "PRAD    136\n",
      "COAD     78\n",
      "Name: Cancer_Type, dtype: int64\n"
     ]
    }
   ],
   "source": [
    "# let's check how many different cancer types are there in the data\n",
    "# note: in this tutorial the cancer types will be referred to as classes or labels\n",
    "\n",
    "print(dataframe['Cancer_Type'].value_counts())"
   ]
  },
  {
   "cell_type": "code",
   "execution_count": 8,
   "id": "c4291ffb",
   "metadata": {},
   "outputs": [
    {
     "data": {
      "text/plain": [
       "<AxesSubplot:>"
      ]
     },
     "execution_count": 8,
     "metadata": {},
     "output_type": "execute_result"
    },
    {
     "data": {
      "image/png": "[encoded data removed]",
      "text/plain": [
       "<Figure size 432x288 with 1 Axes>"
      ]
     },
     "metadata": {
      "needs_background": "light"
     },
     "output_type": "display_data"
    }
   ],
   "source": [
    "#plot a bar chart to display the class distribution\n",
    "\n",
    "dataframe['Cancer_Type'].value_counts().plot.bar()"
   ]
  },
  {
   "cell_type": "code",
   "execution_count": 11,
   "id": "df75b0b9",
   "metadata": {
    "scrolled": false
   },
   "outputs": [
    {
     "data": {
      "text/plain": [
       "<AxesSubplot:ylabel='Cancer_Type'>"
      ]
     },
     "execution_count": 11,
     "metadata": {},
     "output_type": "execute_result"
    },
    {
     "data": {
      "image/png": "[encoded data removed]",
      "text/plain": [
       "<Figure size 792x432 with 1 Axes>"
      ]
     },
     "metadata": {},
     "output_type": "display_data"
    }
   ],
   "source": [
    "dataframe['Cancer_Type'].value_counts().plot(kind='pie', figsize=(11,6))"
   ]
  },
  {
   "cell_type": "markdown",
   "id": "191e72b7",
   "metadata": {},
   "source": [
    "Data preprocesing:\n",
    "This is done to put the data in an appropriate format before modelling--"
   ]
  },
  {
   "cell_type": "code",
   "execution_count": 12,
   "id": "718bb996",
   "metadata": {},
   "outputs": [],
   "source": [
    "# we will now seperate the feature values from the class. \n",
    "# we do this because scikit-learn requires that features and class are \n",
    "# separated before sending them to the classifiers\n",
    "\n",
    "X=dataframe.iloc[:,0:-1]\n",
    "y=dataframe.iloc[:,-1]"
   ]
  },
  {
   "cell_type": "code",
   "execution_count": 13,
   "id": "5b337897",
   "metadata": {},
   "outputs": [
    {
     "data": {
      "text/plain": [
       "(801, 8000)"
      ]
     },
     "execution_count": 13,
     "metadata": {},
     "output_type": "execute_result"
    }
   ],
   "source": [
    "X.shape"
   ]
  },
  {
   "cell_type": "code",
   "execution_count": 14,
   "id": "772e3948",
   "metadata": {},
   "outputs": [
    {
     "data": {
      "text/plain": [
       "(801,)"
      ]
     },
     "execution_count": 14,
     "metadata": {},
     "output_type": "execute_result"
    }
   ],
   "source": [
    "y.shape"
   ]
  },
  {
   "cell_type": "markdown",
   "id": "9d27177b",
   "metadata": {},
   "source": [
    " Encode labels:"
   ]
  },
  {
   "cell_type": "code",
   "execution_count": 15,
   "id": "4ed5c5e4",
   "metadata": {},
   "outputs": [],
   "source": [
    "#The labels for this data are categorical and we therefore have to convert them to numeric forms\n",
    "#This is referred to as encoding\n",
    "#Machine learning models usually require input data to be in numeric forms, hence we encoding the labels--\n",
    "\n",
    "#let's encode target labels (y) with values between 0 and n_classes-1.\n",
    "#encoding will be done using the LabelEncoder\n",
    "label_encoder=LabelEncoder()\n",
    "label_encoder.fit(y)\n",
    "y_encoded=label_encoder.transform(y)\n",
    "labels=label_encoder.classes_\n",
    "classes=np.unique(y_encoded)"
   ]
  },
  {
   "cell_type": "code",
   "execution_count": 16,
   "id": "c8d5a450",
   "metadata": {},
   "outputs": [
    {
     "data": {
      "text/plain": [
       "array(['BRCA', 'COAD', 'KIRC', 'LUAD', 'PRAD'], dtype=object)"
      ]
     },
     "execution_count": 16,
     "metadata": {},
     "output_type": "execute_result"
    }
   ],
   "source": [
    "labels"
   ]
  },
  {
   "cell_type": "code",
   "execution_count": 17,
   "id": "41422c35",
   "metadata": {},
   "outputs": [
    {
     "data": {
      "text/plain": [
       "array([0, 1, 2, 3, 4])"
      ]
     },
     "execution_count": 17,
     "metadata": {},
     "output_type": "execute_result"
    }
   ],
   "source": [
    "classes"
   ]
  },
  {
   "cell_type": "markdown",
   "id": "882c64ed",
   "metadata": {},
   "source": [
    "Data Splitting\\ split the data into training and test subsets:\n",
    "\n",
    "- The training data is used to enable the model to identify discriminatory patterns which can be used to make future predictions \n",
    "\n",
    "- The testing data is used to evaluate the model after the training phase"
   ]
  },
  {
   "cell_type": "code",
   "execution_count": 18,
   "id": "0ffbe3d8",
   "metadata": {},
   "outputs": [],
   "source": [
    "#split data into training and test sets\n",
    "\n",
    "X_train,X_test,y_train,y_test=train_test_split(X,y_encoded,test_size=0.2,random_state=42)"
   ]
  },
  {
   "cell_type": "code",
   "execution_count": 19,
   "id": "b786fca4",
   "metadata": {},
   "outputs": [
    {
     "data": {
      "text/html": [
       "<div>\n",
       "<style scoped>\n",
       "    .dataframe tbody tr th:only-of-type {\n",
       "        vertical-align: middle;\n",
       "    }\n",
       "\n",
       "    .dataframe tbody tr th {\n",
       "        vertical-align: top;\n",
       "    }\n",
       "\n",
       "    .dataframe thead th {\n",
       "        text-align: right;\n",
       "    }\n",
       "</style>\n",
       "<table border=\"1\" class=\"dataframe\">\n",
       "  <thead>\n",
       "    <tr style=\"text-align: right;\">\n",
       "      <th></th>\n",
       "      <th>gene_1</th>\n",
       "      <th>gene_2</th>\n",
       "      <th>gene_3</th>\n",
       "      <th>gene_4</th>\n",
       "      <th>gene_5</th>\n",
       "      <th>gene_6</th>\n",
       "      <th>gene_7</th>\n",
       "      <th>gene_8</th>\n",
       "      <th>gene_9</th>\n",
       "      <th>gene_10</th>\n",
       "    </tr>\n",
       "  </thead>\n",
       "  <tbody>\n",
       "    <tr>\n",
       "      <th>count</th>\n",
       "      <td>801.000000</td>\n",
       "      <td>801.000000</td>\n",
       "      <td>801.000000</td>\n",
       "      <td>801.000000</td>\n",
       "      <td>801.000000</td>\n",
       "      <td>801.000000</td>\n",
       "      <td>801.000000</td>\n",
       "      <td>801.000000</td>\n",
       "      <td>801.000000</td>\n",
       "      <td>801.000000</td>\n",
       "    </tr>\n",
       "    <tr>\n",
       "      <th>mean</th>\n",
       "      <td>0.026642</td>\n",
       "      <td>0.231049</td>\n",
       "      <td>0.010844</td>\n",
       "      <td>2.405459</td>\n",
       "      <td>0.005799</td>\n",
       "      <td>0.065640</td>\n",
       "      <td>0.022036</td>\n",
       "      <td>0.028394</td>\n",
       "      <td>0.703998</td>\n",
       "      <td>1.916364</td>\n",
       "    </tr>\n",
       "    <tr>\n",
       "      <th>std</th>\n",
       "      <td>0.136850</td>\n",
       "      <td>0.656692</td>\n",
       "      <td>0.153859</td>\n",
       "      <td>0.797236</td>\n",
       "      <td>0.052265</td>\n",
       "      <td>0.213557</td>\n",
       "      <td>0.148917</td>\n",
       "      <td>0.161606</td>\n",
       "      <td>0.779321</td>\n",
       "      <td>0.877010</td>\n",
       "    </tr>\n",
       "    <tr>\n",
       "      <th>min</th>\n",
       "      <td>0.000000</td>\n",
       "      <td>0.000000</td>\n",
       "      <td>0.000000</td>\n",
       "      <td>0.000000</td>\n",
       "      <td>0.000000</td>\n",
       "      <td>0.000000</td>\n",
       "      <td>0.000000</td>\n",
       "      <td>0.000000</td>\n",
       "      <td>0.000000</td>\n",
       "      <td>0.000000</td>\n",
       "    </tr>\n",
       "    <tr>\n",
       "      <th>25%</th>\n",
       "      <td>0.000000</td>\n",
       "      <td>0.000000</td>\n",
       "      <td>0.000000</td>\n",
       "      <td>1.898595</td>\n",
       "      <td>0.000000</td>\n",
       "      <td>0.000000</td>\n",
       "      <td>0.000000</td>\n",
       "      <td>0.000000</td>\n",
       "      <td>0.000000</td>\n",
       "      <td>1.357214</td>\n",
       "    </tr>\n",
       "    <tr>\n",
       "      <th>50%</th>\n",
       "      <td>0.000000</td>\n",
       "      <td>0.000000</td>\n",
       "      <td>0.000000</td>\n",
       "      <td>2.358284</td>\n",
       "      <td>0.000000</td>\n",
       "      <td>0.000000</td>\n",
       "      <td>0.000000</td>\n",
       "      <td>0.000000</td>\n",
       "      <td>0.518031</td>\n",
       "      <td>1.877862</td>\n",
       "    </tr>\n",
       "    <tr>\n",
       "      <th>75%</th>\n",
       "      <td>0.000000</td>\n",
       "      <td>0.000000</td>\n",
       "      <td>0.000000</td>\n",
       "      <td>2.929355</td>\n",
       "      <td>0.000000</td>\n",
       "      <td>0.000000</td>\n",
       "      <td>0.000000</td>\n",
       "      <td>0.000000</td>\n",
       "      <td>1.123931</td>\n",
       "      <td>2.486792</td>\n",
       "    </tr>\n",
       "    <tr>\n",
       "      <th>max</th>\n",
       "      <td>1.482332</td>\n",
       "      <td>6.575004</td>\n",
       "      <td>3.778061</td>\n",
       "      <td>4.746646</td>\n",
       "      <td>0.570754</td>\n",
       "      <td>1.866275</td>\n",
       "      <td>2.169925</td>\n",
       "      <td>2.375957</td>\n",
       "      <td>4.541670</td>\n",
       "      <td>4.932231</td>\n",
       "    </tr>\n",
       "  </tbody>\n",
       "</table>\n",
       "</div>"
      ],
      "text/plain": [
       "           gene_1      gene_2      gene_3      gene_4      gene_5      gene_6  \\\n",
       "count  801.000000  801.000000  801.000000  801.000000  801.000000  801.000000   \n",
       "mean     0.026642    0.231049    0.010844    2.405459    0.005799    0.065640   \n",
       "std      0.136850    0.656692    0.153859    0.797236    0.052265    0.213557   \n",
       "min      0.000000    0.000000    0.000000    0.000000    0.000000    0.000000   \n",
       "25%      0.000000    0.000000    0.000000    1.898595    0.000000    0.000000   \n",
       "50%      0.000000    0.000000    0.000000    2.358284    0.000000    0.000000   \n",
       "75%      0.000000    0.000000    0.000000    2.929355    0.000000    0.000000   \n",
       "max      1.482332    6.575004    3.778061    4.746646    0.570754    1.866275   \n",
       "\n",
       "           gene_7      gene_8      gene_9     gene_10  \n",
       "count  801.000000  801.000000  801.000000  801.000000  \n",
       "mean     0.022036    0.028394    0.703998    1.916364  \n",
       "std      0.148917    0.161606    0.779321    0.877010  \n",
       "min      0.000000    0.000000    0.000000    0.000000  \n",
       "25%      0.000000    0.000000    0.000000    1.357214  \n",
       "50%      0.000000    0.000000    0.518031    1.877862  \n",
       "75%      0.000000    0.000000    1.123931    2.486792  \n",
       "max      2.169925    2.375957    4.541670    4.932231  "
      ]
     },
     "execution_count": 19,
     "metadata": {},
     "output_type": "execute_result"
    }
   ],
   "source": [
    "dataframe.iloc[:,0:10].describe()"
   ]
  },
  {
   "cell_type": "markdown",
   "id": "53b60b0b",
   "metadata": {},
   "source": [
    "Data Normalization: is done so that the values are in the same range. \n",
    "This will improve model performance and avoid bias"
   ]
  },
  {
   "cell_type": "code",
   "execution_count": 20,
   "id": "ec28f5e3",
   "metadata": {},
   "outputs": [],
   "source": [
    "# scale data between 0 and 1\n",
    "\n",
    "min_max_scaler=MinMaxScaler()\n",
    "\n",
    "X_train_norm=min_max_scaler.fit_transform(X_train)\n",
    "X_test_norm=min_max_scaler.fit_transform(X_test)"
   ]
  },
  {
   "cell_type": "code",
   "execution_count": 22,
   "id": "4b9de236",
   "metadata": {},
   "outputs": [
    {
     "data": {
      "text/plain": [
       "pandas.core.frame.DataFrame"
      ]
     },
     "execution_count": 22,
     "metadata": {},
     "output_type": "execute_result"
    }
   ],
   "source": [
    "type(X_train)"
   ]
  },
  {
   "cell_type": "code",
   "execution_count": 24,
   "id": "282e0f94",
   "metadata": {},
   "outputs": [
    {
     "data": {
      "text/plain": [
       "2.18164326123"
      ]
     },
     "execution_count": 24,
     "metadata": {},
     "output_type": "execute_result"
    }
   ],
   "source": [
    "X_train.iloc[0,3]"
   ]
  },
  {
   "cell_type": "code",
   "execution_count": null,
   "id": "21bfe2bd",
   "metadata": {},
   "outputs": [],
   "source": [
    "X_train_norm[0,3]"
   ]
  },
  {
   "cell_type": "markdown",
   "id": "34cb5892",
   "metadata": {},
   "source": [
    "Feature Selection:\n",
    "- The purpose of feature selection is to select relevant features for classification\n",
    "- Feature selection is usually used as a pre-processing step before doing the actual learning\n",
    "\n",
    "In this data analysis, \"mutual information algorithm\" is used to compute the relevance of each feature. \n",
    "The top n (eg. 300) features are selected for the machine learning analysis\n",
    "\n",
    "Feature Selection using Mutual Information:"
   ]
  },
  {
   "cell_type": "code",
   "execution_count": 26,
   "id": "0d43d0cb",
   "metadata": {},
   "outputs": [],
   "source": [
    "MI=mutual_info_classif(X_train_norm,y_train)"
   ]
  },
  {
   "cell_type": "code",
   "execution_count": 27,
   "id": "61323b27",
   "metadata": {},
   "outputs": [
    {
     "data": {
      "text/plain": [
       "(8000,)"
      ]
     },
     "execution_count": 27,
     "metadata": {},
     "output_type": "execute_result"
    }
   ],
   "source": [
    "MI.shape"
   ]
  },
  {
   "cell_type": "code",
   "execution_count": 28,
   "id": "f8213b09",
   "metadata": {},
   "outputs": [
    {
     "data": {
      "text/plain": [
       "array([0.        , 0.01211579, 0.02988433, 0.05158922, 0.02068767])"
      ]
     },
     "execution_count": 28,
     "metadata": {},
     "output_type": "execute_result"
    }
   ],
   "source": [
    "MI[0:5]"
   ]
  },
  {
   "cell_type": "code",
   "execution_count": 29,
   "id": "059ae0b9",
   "metadata": {},
   "outputs": [],
   "source": [
    "features=X_train.columns"
   ]
  },
  {
   "cell_type": "code",
   "execution_count": 30,
   "id": "c5d757ff",
   "metadata": {},
   "outputs": [
    {
     "data": {
      "text/plain": [
       "(8000,)"
      ]
     },
     "execution_count": 30,
     "metadata": {},
     "output_type": "execute_result"
    }
   ],
   "source": [
    "features.shape"
   ]
  },
  {
   "cell_type": "code",
   "execution_count": 31,
   "id": "298eaa7a",
   "metadata": {},
   "outputs": [
    {
     "data": {
      "text/plain": [
       "Index(['gene_1', 'gene_2', 'gene_3', 'gene_4', 'gene_5'], dtype='object')"
      ]
     },
     "execution_count": 31,
     "metadata": {},
     "output_type": "execute_result"
    }
   ],
   "source": [
    "features[0:5]"
   ]
  },
  {
   "cell_type": "code",
   "execution_count": 33,
   "id": "183fe2e7",
   "metadata": {},
   "outputs": [],
   "source": [
    "#select top n features. lets say 300.\n",
    "#you can modify the value and see how the performance of the model changes\n",
    "\n",
    "n_features=300\n",
    "selected_scores_indices=np.argsort(MI)[::-1][0:n_features]"
   ]
  },
  {
   "cell_type": "code",
   "execution_count": 34,
   "id": "b8136d5a",
   "metadata": {},
   "outputs": [],
   "source": [
    "X_train_selected=X_train_norm[:,selected_scores_indices]\n",
    "X_test_selected=X_test_norm[:,selected_scores_indices]"
   ]
  },
  {
   "cell_type": "code",
   "execution_count": 35,
   "id": "87e12b62",
   "metadata": {},
   "outputs": [
    {
     "data": {
      "text/plain": [
       "(640, 300)"
      ]
     },
     "execution_count": 35,
     "metadata": {},
     "output_type": "execute_result"
    }
   ],
   "source": [
    "X_train_selected.shape"
   ]
  },
  {
   "cell_type": "code",
   "execution_count": 36,
   "id": "0a67a673",
   "metadata": {},
   "outputs": [
    {
     "data": {
      "text/plain": [
       "(161, 300)"
      ]
     },
     "execution_count": 36,
     "metadata": {},
     "output_type": "execute_result"
    }
   ],
   "source": [
    "X_test_selected.shape"
   ]
  },
  {
   "cell_type": "markdown",
   "id": "6a4a2eff",
   "metadata": {},
   "source": [
    "Classification:\n",
    "- The random forest classifier is used in this case. \n",
    "- Random forest works with multiclass and high dimensional data\n",
    "- Classification will involve training and testing of the model\n",
    "\n",
    "Model Training:\n",
    "-Training allows the machine learning model to learn from the data and \n",
    "-use the identified patterns to predict the outcomes of data it has never seen before\n",
    "-In the training phase, the model is given the training subset"
   ]
  },
  {
   "cell_type": "code",
   "execution_count": 37,
   "id": "3f9f791f",
   "metadata": {},
   "outputs": [],
   "source": [
    "#Random Forest Classifier\n",
    "#because we are dealing with multiclass data, the one versus rest strategy is used.\n",
    "#learn to predict each class against the other.\n",
    "\n",
    "RF=OneVsRestClassifier(RandomForestClassifier(max_features=0.2))\n",
    "RF.fit(X_train_selected,y_train)\n",
    "y_pred =RF.predict(X_test_selected)\n",
    "pred_prob = RF.predict_proba(X_test_selected)"
   ]
  },
  {
   "cell_type": "markdown",
   "id": "dded0c82",
   "metadata": {},
   "source": [
    "Model Evaluation:\n",
    "After training the model, it is important to know how the model performs\n",
    "on an independent data(i.e. the test data)\n",
    "The following metrics are used to evaluate the model--\n",
    "\n",
    "- accuracy\n",
    "- precision\n",
    "- recall\n",
    "- f1 score\n",
    "- confusion matrix\n",
    "- ROC Curve"
   ]
  },
  {
   "cell_type": "code",
   "execution_count": 38,
   "id": "dc3cbad1",
   "metadata": {},
   "outputs": [
    {
     "name": "stdout",
     "output_type": "stream",
     "text": [
      "accuracy:0.9550\n",
      "precision:0.9699\n",
      "recall:0.9689\n",
      "f1score:0.9689\n",
      "\n",
      "\n",
      "classification report\n",
      "\n",
      "\n",
      "              precision    recall  f1-score   support\n",
      "\n",
      "        BRCA       0.97      0.98      0.98        60\n",
      "        COAD       1.00      0.88      0.93        16\n",
      "        KIRC       1.00      1.00      1.00        28\n",
      "        LUAD       0.88      0.92      0.90        24\n",
      "        PRAD       1.00      1.00      1.00        33\n",
      "\n",
      "    accuracy                           0.97       161\n",
      "   macro avg       0.97      0.96      0.96       161\n",
      "weighted avg       0.97      0.97      0.97       161\n",
      "\n"
     ]
    }
   ],
   "source": [
    "#accuracy\n",
    "accuracy=np.round(balanced_accuracy_score(y_test,y_pred),4)\n",
    "print('accuracy:%0.4f'%accuracy)\n",
    "\n",
    "#precision\n",
    "precision=np.round(precision_score(y_test,y_pred,average = 'weighted'),4)\n",
    "print('precision:%0.4f'%precision)\n",
    "\n",
    "#recall\n",
    "recall=np.round(recall_score(y_test,y_pred,average = 'weighted'),4)\n",
    "print('recall:%0.4f'%recall)\n",
    "\n",
    "#f1score\n",
    "f1score=np.round(f1_score(y_test,y_pred,average = 'weighted'),4)\n",
    "print('f1score:%0.4f'%f1score)\n",
    "\n",
    "\n",
    "report=classification_report(y_test,y_pred, target_names=labels)\n",
    "print('\\n')\n",
    "print('classification report\\n\\n')\n",
    "print(report)"
   ]
  },
  {
   "cell_type": "code",
   "execution_count": 39,
   "id": "2baedf1a",
   "metadata": {},
   "outputs": [
    {
     "data": {
      "text/html": [
       "<div>\n",
       "<style scoped>\n",
       "    .dataframe tbody tr th:only-of-type {\n",
       "        vertical-align: middle;\n",
       "    }\n",
       "\n",
       "    .dataframe tbody tr th {\n",
       "        vertical-align: top;\n",
       "    }\n",
       "\n",
       "    .dataframe thead th {\n",
       "        text-align: right;\n",
       "    }\n",
       "</style>\n",
       "<table border=\"1\" class=\"dataframe\">\n",
       "  <thead>\n",
       "    <tr style=\"text-align: right;\">\n",
       "      <th></th>\n",
       "      <th>BRCA</th>\n",
       "      <th>COAD</th>\n",
       "      <th>KIRC</th>\n",
       "      <th>LUAD</th>\n",
       "      <th>PRAD</th>\n",
       "    </tr>\n",
       "  </thead>\n",
       "  <tbody>\n",
       "    <tr>\n",
       "      <th>BRCA</th>\n",
       "      <td>59</td>\n",
       "      <td>0</td>\n",
       "      <td>0</td>\n",
       "      <td>1</td>\n",
       "      <td>0</td>\n",
       "    </tr>\n",
       "    <tr>\n",
       "      <th>COAD</th>\n",
       "      <td>0</td>\n",
       "      <td>14</td>\n",
       "      <td>0</td>\n",
       "      <td>2</td>\n",
       "      <td>0</td>\n",
       "    </tr>\n",
       "    <tr>\n",
       "      <th>KIRC</th>\n",
       "      <td>0</td>\n",
       "      <td>0</td>\n",
       "      <td>28</td>\n",
       "      <td>0</td>\n",
       "      <td>0</td>\n",
       "    </tr>\n",
       "    <tr>\n",
       "      <th>LUAD</th>\n",
       "      <td>2</td>\n",
       "      <td>0</td>\n",
       "      <td>0</td>\n",
       "      <td>22</td>\n",
       "      <td>0</td>\n",
       "    </tr>\n",
       "    <tr>\n",
       "      <th>PRAD</th>\n",
       "      <td>0</td>\n",
       "      <td>0</td>\n",
       "      <td>0</td>\n",
       "      <td>0</td>\n",
       "      <td>33</td>\n",
       "    </tr>\n",
       "  </tbody>\n",
       "</table>\n",
       "</div>"
      ],
      "text/plain": [
       "      BRCA  COAD  KIRC  LUAD  PRAD\n",
       "BRCA    59     0     0     1     0\n",
       "COAD     0    14     0     2     0\n",
       "KIRC     0     0    28     0     0\n",
       "LUAD     2     0     0    22     0\n",
       "PRAD     0     0     0     0    33"
      ]
     },
     "execution_count": 39,
     "metadata": {},
     "output_type": "execute_result"
    }
   ],
   "source": [
    "#generate confusion matrix\n",
    "cm=confusion_matrix(y_test,y_pred)\n",
    "cm_df=pd.DataFrame(cm,index=labels,columns=labels)\n",
    "cm_df"
   ]
  },
  {
   "cell_type": "code",
   "execution_count": 40,
   "id": "e89f9708",
   "metadata": {},
   "outputs": [
    {
     "data": {
      "text/plain": [
       "Text(33.0, 0.5, 'True Labels')"
      ]
     },
     "execution_count": 40,
     "metadata": {},
     "output_type": "execute_result"
    },
    {
     "data": {
      "image/png": "[encoded data removed]",
      "text/plain": [
       "<Figure size 432x288 with 2 Axes>"
      ]
     },
     "metadata": {
      "needs_background": "light"
     },
     "output_type": "display_data"
    }
   ],
   "source": [
    "#visualize the confusion matrix using seaborn\n",
    "\n",
    "sns.heatmap(cm_df,annot=True,cmap='Blues')\n",
    "plt.xlabel('Predicted Labels')\n",
    "plt.ylabel('True Labels')"
   ]
  },
  {
   "cell_type": "code",
   "execution_count": 41,
   "id": "3ee53129",
   "metadata": {},
   "outputs": [
    {
     "data": {
      "image/png": "[encoded data removed]",
      "text/plain": [
       "<Figure size 432x288 with 2 Axes>"
      ]
     },
     "metadata": {
      "needs_background": "light"
     },
     "output_type": "display_data"
    }
   ],
   "source": [
    "#visualize the confusion matrix directly\n",
    "disp=plot_confusion_matrix(RF,X_test_selected,y_test,xticks_rotation='vertical',\n",
    "                     cmap='Blues',display_labels=labels)"
   ]
  },
  {
   "cell_type": "code",
   "execution_count": 43,
   "id": "7b6e232c",
   "metadata": {},
   "outputs": [
    {
     "data": {
      "text/plain": [
       "(161, 5)"
      ]
     },
     "execution_count": 43,
     "metadata": {},
     "output_type": "execute_result"
    }
   ],
   "source": [
    "pred_prob.shape"
   ]
  },
  {
   "cell_type": "code",
   "execution_count": 44,
   "id": "a1f7338f",
   "metadata": {},
   "outputs": [
    {
     "data": {
      "text/plain": [
       "(161,)"
      ]
     },
     "execution_count": 44,
     "metadata": {},
     "output_type": "execute_result"
    }
   ],
   "source": [
    "y_pred.shape"
   ]
  },
  {
   "cell_type": "code",
   "execution_count": 46,
   "id": "995786b7",
   "metadata": {},
   "outputs": [
    {
     "data": {
      "image/png": "[encoded data removed]",
      "text/plain": [
       "<Figure size 432x288 with 1 Axes>"
      ]
     },
     "metadata": {
      "needs_background": "light"
     },
     "output_type": "display_data"
    }
   ],
   "source": [
    "#roc curves will be generated for each class\n",
    "#we will therefore have to binarize the y_test labels\n",
    "#this is done because the probabilities(pred_prob) are calculated for each class\n",
    "#we therefore need to put the y_test label in the same format as the pred_prob\n",
    "\n",
    "y_test_binarized=label_binarize(y_test,classes=classes)\n",
    "\n",
    "# roc curve for classes\n",
    "fpr = {}\n",
    "tpr = {}\n",
    "thresh ={}\n",
    "roc_auc = dict()\n",
    "\n",
    "n_class = classes.shape[0]\n",
    "\n",
    "for i in range(n_class):    \n",
    "    fpr[i], tpr[i], thresh[i] = roc_curve(y_test_binarized[:,i], pred_prob[:,i])\n",
    "    roc_auc[i] = auc(fpr[i], tpr[i])\n",
    "    \n",
    "    # plotting    \n",
    "    plt.plot(fpr[i], tpr[i], linestyle='--', \n",
    "             label='%s vs Rest (AUC=%0.2f)'%(labels[i],roc_auc[i]))\n",
    "\n",
    "plt.plot([0,1],[0,1],'b--')\n",
    "plt.xlim([0,1])\n",
    "plt.ylim([0,1.05])\n",
    "plt.title('Multiclass ROC curve')\n",
    "plt.xlabel('False Positive Rate')\n",
    "plt.ylabel('True Positive rate')\n",
    "plt.legend(loc='lower right')\n",
    "plt.show()    "
   ]
  }
 ],
 "metadata": {
  "kernelspec": {
   "display_name": "Python 3 (ipykernel)",
   "language": "python",
   "name": "python3"
  },
  "language_info": {
   "codemirror_mode": {
    "name": "ipython",
    "version": 3
   },
   "file_extension": ".py",
   "mimetype": "text/x-python",
   "name": "python",
   "nbconvert_exporter": "python",
   "pygments_lexer": "ipython3",
   "version": "3.9.7"
  }
 },
 "nbformat": 4,
 "nbformat_minor": 5
}
